{
 "cells": [
  {
   "cell_type": "code",
   "execution_count": 1,
   "id": "8ebc7b02",
   "metadata": {
    "execution": {
     "iopub.execute_input": "2023-03-09T12:19:59.069422Z",
     "iopub.status.busy": "2023-03-09T12:19:59.069012Z",
     "iopub.status.idle": "2023-03-09T12:20:10.356703Z",
     "shell.execute_reply": "2023-03-09T12:20:10.355259Z"
    },
    "id": "tEGHhkhFOLWe",
    "papermill": {
     "duration": 11.301804,
     "end_time": "2023-03-09T12:20:10.359759",
     "exception": false,
     "start_time": "2023-03-09T12:19:59.057955",
     "status": "completed"
    },
    "tags": []
   },
   "outputs": [],
   "source": [
    "# import necessary libraries\n",
    "import warnings\n",
    "warnings.filterwarnings(\"ignore\")\n",
    "\n",
    "import numpy as np\n",
    "\n",
    "from matplotlib import pyplot as plt\n",
    "\n",
    "from nltk.corpus import brown\n",
    "from nltk.corpus import treebank\n",
    "from nltk.corpus import conll2000\n",
    "\n",
    "import seaborn as sns\n",
    "\n",
    "from gensim.models import KeyedVectors\n",
    "from tensorflow.keras.preprocessing.sequence import pad_sequences\n",
    "# from keras.preprocessing.sequence import pad_sequences\n",
    "from keras.utils.np_utils import to_categorical\n",
    "from keras.models import Sequential\n",
    "from keras.layers import Embedding\n",
    "from keras.layers import Dense, Input\n",
    "from keras.layers import TimeDistributed\n",
    "from keras.layers import LSTM, GRU, Bidirectional, SimpleRNN, RNN\n",
    "from keras.models import Model\n",
    "from keras.preprocessing.text import Tokenizer\n",
    "\n",
    "from sklearn.model_selection import train_test_split\n",
    "from sklearn.utils import shuffle"
   ]
  },
  {
   "cell_type": "code",
   "execution_count": 2,
   "id": "655a14b7",
   "metadata": {
    "execution": {
     "iopub.execute_input": "2023-03-09T12:20:10.378444Z",
     "iopub.status.busy": "2023-03-09T12:20:10.377591Z",
     "iopub.status.idle": "2023-03-09T12:20:22.777711Z",
     "shell.execute_reply": "2023-03-09T12:20:22.776368Z"
    },
    "id": "lmtu6A1qWb-t",
    "outputId": "a1550236-77f9-4d61-aefa-511084067e01",
    "papermill": {
     "duration": 12.412526,
     "end_time": "2023-03-09T12:20:22.780587",
     "exception": false,
     "start_time": "2023-03-09T12:20:10.368061",
     "status": "completed"
    },
    "tags": []
   },
   "outputs": [
    {
     "name": "stdout",
     "output_type": "stream",
     "text": [
      "Collecting conllu\r\n",
      "  Downloading conllu-4.5.2-py2.py3-none-any.whl (16 kB)\r\n",
      "Installing collected packages: conllu\r\n",
      "Successfully installed conllu-4.5.2\r\n",
      "\u001b[33mWARNING: Running pip as the 'root' user can result in broken permissions and conflicting behaviour with the system package manager. It is recommended to use a virtual environment instead: https://pip.pypa.io/warnings/venv\u001b[0m\u001b[33m\r\n",
      "\u001b[0m"
     ]
    }
   ],
   "source": [
    "!pip install conllu"
   ]
  },
  {
   "cell_type": "code",
   "execution_count": 3,
   "id": "4f1b4abf",
   "metadata": {
    "execution": {
     "iopub.execute_input": "2023-03-09T12:20:22.800065Z",
     "iopub.status.busy": "2023-03-09T12:20:22.798815Z",
     "iopub.status.idle": "2023-03-09T12:20:24.439719Z",
     "shell.execute_reply": "2023-03-09T12:20:24.438228Z"
    },
    "id": "lZb3TO-RWq4j",
    "papermill": {
     "duration": 1.653503,
     "end_time": "2023-03-09T12:20:24.442595",
     "exception": false,
     "start_time": "2023-03-09T12:20:22.789092",
     "status": "completed"
    },
    "tags": []
   },
   "outputs": [],
   "source": [
    "from conllu import parse\n",
    "\n",
    "train_data = open('/kaggle/input/ud-english-ats/en_atis-ud-train.conllu')\n",
    "dev_data = open('/kaggle/input/ud-english-ats/en_atis-ud-dev.conllu')\n",
    "test_data = open('/kaggle/input/ud-english-ats/en_atis-ud-test.conllu')\n",
    "\n",
    "train_data = train_data.read()\n",
    "dev_data = dev_data.read()\n",
    "test_data = test_data.read()\n",
    "\n",
    "train_sentences = parse(train_data)\n",
    "dev_sentences = parse(dev_data)\n",
    "test_sentences = parse(test_data)"
   ]
  },
  {
   "cell_type": "code",
   "execution_count": 4,
   "id": "ba4a8c74",
   "metadata": {
    "execution": {
     "iopub.execute_input": "2023-03-09T12:20:24.462140Z",
     "iopub.status.busy": "2023-03-09T12:20:24.460850Z",
     "iopub.status.idle": "2023-03-09T12:20:24.513953Z",
     "shell.execute_reply": "2023-03-09T12:20:24.512570Z"
    },
    "id": "iFtii-sXXIX2",
    "papermill": {
     "duration": 0.066025,
     "end_time": "2023-03-09T12:20:24.517019",
     "exception": false,
     "start_time": "2023-03-09T12:20:24.450994",
     "status": "completed"
    },
    "tags": []
   },
   "outputs": [],
   "source": [
    "train_X = []\n",
    "train_Y = []\n",
    "\n",
    "dev_X = []\n",
    "dev_Y = []\n",
    "\n",
    "test_X = []\n",
    "test_Y = []\n",
    "\n",
    "for sentence in train_sentences:\n",
    "    X_sentence = []\n",
    "    Y_sentence = []\n",
    "    for entity in sentence:         \n",
    "        X_sentence.append(entity['form'])  # entity[0] contains the word\n",
    "        Y_sentence.append(entity['upos'])  # entity[1] contains corresponding tag\n",
    "        \n",
    "    train_X.append(X_sentence)\n",
    "    train_Y.append(Y_sentence)\n",
    "\n",
    "for sentence in dev_sentences:\n",
    "    X_sentence = []\n",
    "    Y_sentence = []\n",
    "    for entity in sentence:         \n",
    "        X_sentence.append(entity['form'])  # entity[0] contains the word\n",
    "        Y_sentence.append(entity['upos'])  # entity[1] contains corresponding tag\n",
    "        \n",
    "    dev_X.append(X_sentence)\n",
    "    dev_Y.append(Y_sentence)\n",
    "\n",
    "for sentence in test_sentences:\n",
    "    X_sentence = []\n",
    "    Y_sentence = []\n",
    "    for entity in sentence:         \n",
    "        X_sentence.append(entity['form'])  # entity[0] contains the word\n",
    "        Y_sentence.append(entity['upos'])  # entity[1] contains corresponding tag\n",
    "        \n",
    "    test_X.append(X_sentence)\n",
    "    test_Y.append(Y_sentence)"
   ]
  },
  {
   "cell_type": "code",
   "execution_count": 5,
   "id": "b39f2d9a",
   "metadata": {
    "execution": {
     "iopub.execute_input": "2023-03-09T12:20:24.536453Z",
     "iopub.status.busy": "2023-03-09T12:20:24.535980Z",
     "iopub.status.idle": "2023-03-09T12:20:24.722598Z",
     "shell.execute_reply": "2023-03-09T12:20:24.721357Z"
    },
    "id": "d0SAHXNfU7kj",
    "papermill": {
     "duration": 0.199434,
     "end_time": "2023-03-09T12:20:24.725504",
     "exception": false,
     "start_time": "2023-03-09T12:20:24.526070",
     "status": "completed"
    },
    "tags": []
   },
   "outputs": [],
   "source": [
    "word_tokenizer = Tokenizer(oov_token = '<OOV>')                      # instantiate tokeniser\n",
    "word_tokenizer.fit_on_texts(train_X + test_X + dev_X)                    # fit tokeniser on data\n",
    "tag_tokenizer = Tokenizer()\n",
    "tag_tokenizer.fit_on_texts(train_Y + test_Y + dev_Y)\n",
    "\n",
    "train_X_encoded = word_tokenizer.texts_to_sequences(train_X)\n",
    "train_Y_encoded = tag_tokenizer.texts_to_sequences(train_Y)\n",
    "\n",
    "dev_X_encoded = word_tokenizer.texts_to_sequences(dev_X)\n",
    "dev_Y_encoded = tag_tokenizer.texts_to_sequences(dev_Y)\n",
    "\n",
    "test_X_encoded = word_tokenizer.texts_to_sequences(test_X)\n",
    "test_Y_encoded = tag_tokenizer.texts_to_sequences(test_Y)\n"
   ]
  },
  {
   "cell_type": "code",
   "execution_count": 6,
   "id": "27b77e62",
   "metadata": {
    "execution": {
     "iopub.execute_input": "2023-03-09T12:20:24.743512Z",
     "iopub.status.busy": "2023-03-09T12:20:24.743087Z",
     "iopub.status.idle": "2023-03-09T12:20:24.786860Z",
     "shell.execute_reply": "2023-03-09T12:20:24.785529Z"
    },
    "id": "UjL5sVo96jjz",
    "papermill": {
     "duration": 0.056133,
     "end_time": "2023-03-09T12:20:24.789821",
     "exception": false,
     "start_time": "2023-03-09T12:20:24.733688",
     "status": "completed"
    },
    "tags": []
   },
   "outputs": [],
   "source": [
    "MAX_SEQ_LENGTH = 100  # sequences greater than 100 in length will be truncated\n",
    "\n",
    "train_X_padded = pad_sequences(train_X_encoded, maxlen=MAX_SEQ_LENGTH, padding=\"pre\", truncating=\"post\")\n",
    "train_Y_padded = pad_sequences(train_Y_encoded, maxlen=MAX_SEQ_LENGTH, padding=\"pre\", truncating=\"post\")\n",
    "\n",
    "dev_X_padded = pad_sequences(dev_X_encoded, maxlen=MAX_SEQ_LENGTH, padding=\"pre\", truncating=\"post\")\n",
    "dev_Y_padded = pad_sequences(dev_Y_encoded, maxlen=MAX_SEQ_LENGTH, padding=\"pre\", truncating=\"post\")\n",
    "\n",
    "test_X_padded = pad_sequences(test_X_encoded, maxlen=MAX_SEQ_LENGTH, padding=\"pre\", truncating=\"post\")\n",
    "test_Y_padded = pad_sequences(test_Y_encoded, maxlen=MAX_SEQ_LENGTH, padding=\"pre\", truncating=\"post\")"
   ]
  },
  {
   "cell_type": "code",
   "execution_count": 7,
   "id": "ee6eede7",
   "metadata": {
    "execution": {
     "iopub.execute_input": "2023-03-09T12:20:24.808383Z",
     "iopub.status.busy": "2023-03-09T12:20:24.807505Z",
     "iopub.status.idle": "2023-03-09T12:20:24.816948Z",
     "shell.execute_reply": "2023-03-09T12:20:24.815476Z"
    },
    "id": "nGveQTHS-voK",
    "papermill": {
     "duration": 0.021353,
     "end_time": "2023-03-09T12:20:24.819524",
     "exception": false,
     "start_time": "2023-03-09T12:20:24.798171",
     "status": "completed"
    },
    "tags": []
   },
   "outputs": [],
   "source": [
    "train_X, train_Y = train_X_padded, train_Y_padded\n",
    "dev_X, dev_Y = dev_X_padded, dev_Y_padded\n",
    "test_X, test_Y = test_X_padded, test_Y_padded"
   ]
  },
  {
   "cell_type": "code",
   "execution_count": 8,
   "id": "d6646460",
   "metadata": {
    "execution": {
     "iopub.execute_input": "2023-03-09T12:20:24.839435Z",
     "iopub.status.busy": "2023-03-09T12:20:24.839004Z",
     "iopub.status.idle": "2023-03-09T12:21:34.340186Z",
     "shell.execute_reply": "2023-03-09T12:21:34.338873Z"
    },
    "id": "cijKgXMHWvpJ",
    "papermill": {
     "duration": 69.530112,
     "end_time": "2023-03-09T12:21:34.359015",
     "exception": false,
     "start_time": "2023-03-09T12:20:24.828903",
     "status": "completed"
    },
    "tags": []
   },
   "outputs": [
    {
     "name": "stdout",
     "output_type": "stream",
     "text": [
      "Embeddings shape: (934, 300)\n"
     ]
    }
   ],
   "source": [
    "\n",
    "path = '/kaggle/input/google-word2vec/GoogleNews-vectors-negative300.bin'\n",
    "# load word2vec using the following function present in the gensim library\n",
    "word2vec = KeyedVectors.load_word2vec_format(path, binary=True)\n",
    "\n",
    "# word2vec effectiveness\n",
    "word2vec.most_similar(positive = [\"King\", \"Woman\"], negative = [\"Man\"])\n",
    "\n",
    "# assign word vectors from word2vec model\n",
    "EMBEDDING_SIZE  = 300  # each word in word2vec model is represented using a 300 dimensional vector\n",
    "VOCABULARY_SIZE = len(word_tokenizer.word_index) + 1\n",
    "# create an empty embedding matix\n",
    "embedding_weights = np.zeros((VOCABULARY_SIZE, EMBEDDING_SIZE))\n",
    "# create a word to index dictionary mapping\n",
    "word2id = word_tokenizer.word_index\n",
    "# copy vectors from word2vec model to the words present in corpus\n",
    "for word, index in word2id.items():\n",
    "    try:\n",
    "        embedding_weights[index, :] = word2vec[word]\n",
    "    except KeyError:\n",
    "        pass\n",
    "\n",
    "# check embedding dimension\n",
    "print(\"Embeddings shape: {}\".format(embedding_weights.shape))\n",
    "\n"
   ]
  },
  {
   "cell_type": "code",
   "execution_count": 9,
   "id": "775351bf",
   "metadata": {
    "execution": {
     "iopub.execute_input": "2023-03-09T12:21:34.381274Z",
     "iopub.status.busy": "2023-03-09T12:21:34.380795Z",
     "iopub.status.idle": "2023-03-09T12:21:34.387568Z",
     "shell.execute_reply": "2023-03-09T12:21:34.386297Z"
    },
    "papermill": {
     "duration": 0.018885,
     "end_time": "2023-03-09T12:21:34.389913",
     "exception": false,
     "start_time": "2023-03-09T12:21:34.371028",
     "status": "completed"
    },
    "tags": []
   },
   "outputs": [
    {
     "name": "stdout",
     "output_type": "stream",
     "text": [
      "(4274, 100) (4274, 100)\n",
      "(572, 100) (572, 100)\n",
      "(586, 100) (586, 100)\n"
     ]
    }
   ],
   "source": [
    "print(train_X.shape, train_Y.shape)\n",
    "print(dev_X.shape, dev_Y.shape)\n",
    "print(test_X.shape, test_Y.shape)"
   ]
  },
  {
   "cell_type": "code",
   "execution_count": 10,
   "id": "77139e80",
   "metadata": {
    "execution": {
     "iopub.execute_input": "2023-03-09T12:21:34.408106Z",
     "iopub.status.busy": "2023-03-09T12:21:34.407632Z",
     "iopub.status.idle": "2023-03-09T12:21:34.415222Z",
     "shell.execute_reply": "2023-03-09T12:21:34.413870Z"
    },
    "papermill": {
     "duration": 0.019419,
     "end_time": "2023-03-09T12:21:34.417668",
     "exception": false,
     "start_time": "2023-03-09T12:21:34.398249",
     "status": "completed"
    },
    "tags": []
   },
   "outputs": [
    {
     "name": "stdout",
     "output_type": "stream",
     "text": [
      "{'propn': 1, 'adp': 2, 'noun': 3, 'verb': 4, 'det': 5, 'pron': 6, 'aux': 7, 'adj': 8, 'num': 9, 'cconj': 10, 'adv': 11, 'part': 12, 'intj': 13, 'sym': 14, 'unk': 0}\n",
      "{1: 'propn', 2: 'adp', 3: 'noun', 4: 'verb', 5: 'det', 6: 'pron', 7: 'aux', 8: 'adj', 9: 'num', 10: 'cconj', 11: 'adv', 12: 'part', 13: 'intj', 14: 'sym', 0: 'unk'}\n"
     ]
    }
   ],
   "source": [
    "tag2id = tag_tokenizer.word_index\n",
    "tag2id['unk'] = 0\n",
    "id2tag = {}\n",
    "for tag,idx in tag2id.items():\n",
    "    id2tag[idx] = tag\n",
    "\n",
    "print(tag2id)\n",
    "print(id2tag)\n",
    "  "
   ]
  },
  {
   "cell_type": "code",
   "execution_count": 11,
   "id": "be3414cd",
   "metadata": {
    "execution": {
     "iopub.execute_input": "2023-03-09T12:21:34.437127Z",
     "iopub.status.busy": "2023-03-09T12:21:34.436355Z",
     "iopub.status.idle": "2023-03-09T12:21:34.466610Z",
     "shell.execute_reply": "2023-03-09T12:21:34.465425Z"
    },
    "papermill": {
     "duration": 0.042992,
     "end_time": "2023-03-09T12:21:34.469328",
     "exception": false,
     "start_time": "2023-03-09T12:21:34.426336",
     "status": "completed"
    },
    "tags": []
   },
   "outputs": [],
   "source": [
    "# use Keras' to_categorical function to one-hot encode Y\n",
    "train_Y = to_categorical(train_Y,num_classes= 15, dtype='int32')\n",
    "dev_Y = to_categorical(dev_Y,num_classes= 15, dtype='int32')\n",
    "test_Y = to_categorical(test_Y, num_classes= 15, dtype='int32')\n"
   ]
  },
  {
   "cell_type": "code",
   "execution_count": 12,
   "id": "04e70dff",
   "metadata": {
    "execution": {
     "iopub.execute_input": "2023-03-09T12:21:34.488285Z",
     "iopub.status.busy": "2023-03-09T12:21:34.487541Z",
     "iopub.status.idle": "2023-03-09T12:21:34.493402Z",
     "shell.execute_reply": "2023-03-09T12:21:34.492286Z"
    },
    "papermill": {
     "duration": 0.018279,
     "end_time": "2023-03-09T12:21:34.496064",
     "exception": false,
     "start_time": "2023-03-09T12:21:34.477785",
     "status": "completed"
    },
    "tags": []
   },
   "outputs": [
    {
     "name": "stdout",
     "output_type": "stream",
     "text": [
      "(4274, 100) (4274, 100, 15)\n",
      "(572, 100) (572, 100, 15)\n",
      "(586, 100) (586, 100, 15)\n"
     ]
    }
   ],
   "source": [
    "print(train_X.shape, train_Y.shape)\n",
    "print(dev_X.shape, dev_Y.shape)\n",
    "print(test_X.shape, test_Y.shape)"
   ]
  },
  {
   "cell_type": "markdown",
   "id": "2e4ee341",
   "metadata": {
    "papermill": {
     "duration": 0.007964,
     "end_time": "2023-03-09T12:21:34.512425",
     "exception": false,
     "start_time": "2023-03-09T12:21:34.504461",
     "status": "completed"
    },
    "tags": []
   },
   "source": [
    "# Vanilla RNN"
   ]
  },
  {
   "cell_type": "code",
   "execution_count": 13,
   "id": "128c87e3",
   "metadata": {
    "execution": {
     "iopub.execute_input": "2023-03-09T12:21:34.531654Z",
     "iopub.status.busy": "2023-03-09T12:21:34.530818Z",
     "iopub.status.idle": "2023-03-09T12:21:34.537487Z",
     "shell.execute_reply": "2023-03-09T12:21:34.535884Z"
    },
    "id": "AQ8-D-JWtuF7",
    "papermill": {
     "duration": 0.019353,
     "end_time": "2023-03-09T12:21:34.540043",
     "exception": false,
     "start_time": "2023-03-09T12:21:34.520690",
     "status": "completed"
    },
    "tags": []
   },
   "outputs": [
    {
     "name": "stdout",
     "output_type": "stream",
     "text": [
      "15\n"
     ]
    }
   ],
   "source": [
    "# total number of tags\n",
    "NUM_CLASSES = train_Y.shape[2]\n",
    "print(NUM_CLASSES)"
   ]
  },
  {
   "cell_type": "code",
   "execution_count": 14,
   "id": "0cfffe53",
   "metadata": {
    "execution": {
     "iopub.execute_input": "2023-03-09T12:21:34.559121Z",
     "iopub.status.busy": "2023-03-09T12:21:34.558638Z",
     "iopub.status.idle": "2023-03-09T12:21:34.570928Z",
     "shell.execute_reply": "2023-03-09T12:21:34.569726Z"
    },
    "papermill": {
     "duration": 0.025017,
     "end_time": "2023-03-09T12:21:34.573535",
     "exception": false,
     "start_time": "2023-03-09T12:21:34.548518",
     "status": "completed"
    },
    "tags": []
   },
   "outputs": [],
   "source": [
    "# create architecture\n",
    "def create_run_model(EMBEDDING_SIZE, EPOCHS, MODEL_NAME):\n",
    "    bidirect_model = Sequential()\n",
    "    bidirect_model.add(Embedding(input_dim = VOCABULARY_SIZE, output_dim = EMBEDDING_SIZE, input_length = MAX_SEQ_LENGTH,weights = [embedding_weights],\n",
    "     trainable = True\n",
    "    ))\n",
    "    bidirect_model.add(Bidirectional(LSTM(64, return_sequences=True)))\n",
    "    bidirect_model.add(TimeDistributed(Dense(NUM_CLASSES, activation='softmax')))\n",
    "    #compile model\n",
    "    bidirect_model.compile(loss='categorical_crossentropy',optimizer='adam',metrics=['acc'])\n",
    "    # check summary of model\n",
    "    bidirect_model.summary()\n",
    "    \n",
    "    rnn_training = bidirect_model.fit(train_X, train_Y, batch_size=128, epochs= EPOCHS, validation_data=(dev_X, dev_Y))\n",
    "\n",
    "    # visualise training history\n",
    "    plt.plot(rnn_training.history['acc'])\n",
    "    plt.plot(rnn_training.history['val_acc'])\n",
    "    plt.title('model accuracy')\n",
    "    plt.ylabel('accuracy')\n",
    "    plt.xlabel('epoch')\n",
    "    plt.legend(['train', 'test'], loc=\"lower right\")\n",
    "    plt.show()\n",
    "\n",
    "    loss, accuracy = bidirect_model.evaluate(test_X, test_Y, verbose = 1)\n",
    "    print(\"Loss: {0},\\nAccuracy: {1}\".format(loss, accuracy))\n",
    "\n",
    "    bidirect_model.save(MODEL_NAME)\n",
    "    return bidirect_model"
   ]
  },
  {
   "cell_type": "code",
   "execution_count": 15,
   "id": "b9208601",
   "metadata": {
    "execution": {
     "iopub.execute_input": "2023-03-09T12:21:34.592921Z",
     "iopub.status.busy": "2023-03-09T12:21:34.592100Z",
     "iopub.status.idle": "2023-03-09T12:21:34.604024Z",
     "shell.execute_reply": "2023-03-09T12:21:34.602633Z"
    },
    "papermill": {
     "duration": 0.024726,
     "end_time": "2023-03-09T12:21:34.606907",
     "exception": false,
     "start_time": "2023-03-09T12:21:34.582181",
     "status": "completed"
    },
    "tags": []
   },
   "outputs": [],
   "source": [
    "# create architecture with embedding size, hidden size, number of layers, learning rate, complexity of decoding network\n",
    "def create_run_model2(EMBEDDING_SIZE,EPOCHS, MODEL_NAME):\n",
    "    rnn_model = Sequential()\n",
    "\n",
    "    # create embedding layer - usually the first layer in text problems\n",
    "    rnn_model.add(Embedding(input_dim     =  VOCABULARY_SIZE,         # vocabulary size - number of unique words in data\n",
    "                            output_dim    =  EMBEDDING_SIZE,          # length of vector with which each word is represented\n",
    "                            input_length  =  MAX_SEQ_LENGTH,          # length of input sequence\n",
    "                            trainable     =  True                    # False - don't update the embeddings\n",
    "    ))\n",
    "\n",
    "    # add an RNN layer which contains 64 RNN cells\n",
    "    rnn_model.add(SimpleRNN(64, \n",
    "                  return_sequences=True  # True - return whole sequence; False - return single output of the end of the sequence\n",
    "    ))\n",
    "\n",
    "    # add time distributed (output at each sequence) layer\n",
    "    rnn_model.add(TimeDistributed(Dense(NUM_CLASSES, activation='softmax')))\n",
    "\n",
    "    rnn_model.compile(loss =  'categorical_crossentropy', optimizer =  'adam', metrics   =  ['acc'])\n",
    "    rnn_model.summary()\n",
    "\n",
    "    rnn_training = rnn_model.fit(train_X, train_Y, batch_size=128, epochs=10, validation_data=(dev_X, dev_Y))\n",
    "\n",
    "    # visualise training history\n",
    "    plt.plot(rnn_training.history['acc'])\n",
    "    plt.plot(rnn_training.history['val_acc'])\n",
    "    plt.title('model accuracy')\n",
    "    plt.ylabel('accuracy')\n",
    "    plt.xlabel('epoch')\n",
    "    plt.legend(['train', 'test'], loc=\"lower right\")\n",
    "    plt.show()\n",
    "\n",
    "    loss, accuracy = rnn_model.evaluate(test_X, test_Y, verbose = 1)\n",
    "    print(\"Loss: {0},\\nAccuracy: {1}\".format(loss, accuracy))\n",
    "\n",
    "    rnn_model.save(MODEL_NAME)\n",
    "    return rnn_model"
   ]
  },
  {
   "cell_type": "code",
   "execution_count": 16,
   "id": "b5d893b5",
   "metadata": {
    "execution": {
     "iopub.execute_input": "2023-03-09T12:21:34.626006Z",
     "iopub.status.busy": "2023-03-09T12:21:34.625555Z",
     "iopub.status.idle": "2023-03-09T12:21:34.634043Z",
     "shell.execute_reply": "2023-03-09T12:21:34.632824Z"
    },
    "papermill": {
     "duration": 0.020923,
     "end_time": "2023-03-09T12:21:34.636528",
     "exception": false,
     "start_time": "2023-03-09T12:21:34.615605",
     "status": "completed"
    },
    "tags": []
   },
   "outputs": [],
   "source": [
    "def convert_int_categorical(test_Y_pred):\n",
    "    test_Y_pred = test_Y_pred.tolist()\n",
    "\n",
    "    for i in range(len(test_Y_pred)):\n",
    "        sent = test_Y_pred[i]\n",
    "\n",
    "        for j in range(len(sent)):\n",
    "            word = sent[j]\n",
    "\n",
    "            maxv = 0\n",
    "            maxk = 0\n",
    "\n",
    "            for k in range(len(word)):    \n",
    "                if (word[k] > maxv):\n",
    "                    maxv = word[k]\n",
    "                    maxk = k\n",
    "\n",
    "            test_Y_pred[i][j] = maxk\n",
    "\n",
    "    test_Y_pred = np.asarray(test_Y_pred)\n",
    "    return test_Y_pred"
   ]
  },
  {
   "cell_type": "code",
   "execution_count": 17,
   "id": "b897ef6b",
   "metadata": {
    "execution": {
     "iopub.execute_input": "2023-03-09T12:21:34.656603Z",
     "iopub.status.busy": "2023-03-09T12:21:34.656184Z",
     "iopub.status.idle": "2023-03-09T12:21:34.664407Z",
     "shell.execute_reply": "2023-03-09T12:21:34.663201Z"
    },
    "papermill": {
     "duration": 0.021386,
     "end_time": "2023-03-09T12:21:34.667039",
     "exception": false,
     "start_time": "2023-03-09T12:21:34.645653",
     "status": "completed"
    },
    "tags": []
   },
   "outputs": [],
   "source": [
    "from sklearn.metrics import classification_report\n",
    "\n",
    "def report(model,test_X,test_Y_padded):\n",
    "    test_Y_pred = model.predict(test_X)\n",
    "\n",
    "    test_Y_pred = convert_int_categorical(test_Y_pred)\n",
    "\n",
    "    test_Y_pred = test_Y_pred.flatten()\n",
    "    test_Y_padded = test_Y_padded.flatten()\n",
    "\n",
    "    target_names = [key.upper() for key in tag2id.keys()]\n",
    "    target_names.remove('UNK')\n",
    "    print(classification_report(test_Y_padded, test_Y_pred, target_names=target_names))"
   ]
  },
  {
   "cell_type": "code",
   "execution_count": 18,
   "id": "dc16f162",
   "metadata": {
    "execution": {
     "iopub.execute_input": "2023-03-09T12:21:34.686154Z",
     "iopub.status.busy": "2023-03-09T12:21:34.685359Z",
     "iopub.status.idle": "2023-03-09T12:21:34.694911Z",
     "shell.execute_reply": "2023-03-09T12:21:34.693489Z"
    },
    "papermill": {
     "duration": 0.02181,
     "end_time": "2023-03-09T12:21:34.697474",
     "exception": false,
     "start_time": "2023-03-09T12:21:34.675664",
     "status": "completed"
    },
    "tags": []
   },
   "outputs": [],
   "source": [
    "import string\n",
    "def predict_sentence_POS_Tags(sentence,model,word_tokenzier,pos_tag_dict_rev):\n",
    "    cleaned_sentence = sentence.translate(str.maketrans('','',string.punctuation))\n",
    "    testing_sentence = cleaned_sentence.lower().split()\n",
    "    test_list = []\n",
    "    test_list.append(testing_sentence)\n",
    "    testing_sentence_encoded = word_tokenizer.texts_to_sequences(test_list)\n",
    "    testing_sentence_padded = pad_sequences(testing_sentence_encoded, maxlen=MAX_SEQ_LENGTH, padding=\"pre\", truncating=\"post\")\n",
    "    testing_sentence_pred = model.predict(testing_sentence_padded)\n",
    "    \n",
    "    testing_sentence_pred = convert_int_categorical(testing_sentence_pred)\n",
    "    sent_len = len(test_list[0])\n",
    "    for word,idx in zip(test_list[0],testing_sentence_pred[0][100-sent_len:]):\n",
    "        print(\"{}\\t{}\".format(word, id2tag[idx].upper()))"
   ]
  },
  {
   "cell_type": "markdown",
   "id": "2fcb8e44",
   "metadata": {
    "papermill": {
     "duration": 0.008257,
     "end_time": "2023-03-09T12:21:34.714343",
     "exception": false,
     "start_time": "2023-03-09T12:21:34.706086",
     "status": "completed"
    },
    "tags": []
   },
   "source": [
    "# Tune Hyperparameter\n",
    "\n",
    "Tune for optimal hyperparameters (embedding size, hidden size, number of layers,\n",
    "learning rate, complexity of decoding network) and report accuracy, precision,\n",
    "recall and F1-score of your trained model"
   ]
  },
  {
   "cell_type": "code",
   "execution_count": 19,
   "id": "48b89fe3",
   "metadata": {
    "execution": {
     "iopub.execute_input": "2023-03-09T12:21:34.733851Z",
     "iopub.status.busy": "2023-03-09T12:21:34.733286Z",
     "iopub.status.idle": "2023-03-09T12:24:16.936902Z",
     "shell.execute_reply": "2023-03-09T12:24:16.935572Z"
    },
    "papermill": {
     "duration": 162.217617,
     "end_time": "2023-03-09T12:24:16.940504",
     "exception": false,
     "start_time": "2023-03-09T12:21:34.722887",
     "status": "completed"
    },
    "tags": []
   },
   "outputs": [
    {
     "name": "stdout",
     "output_type": "stream",
     "text": [
      "Model: \"sequential\"\n",
      "_________________________________________________________________\n",
      " Layer (type)                Output Shape              Param #   \n",
      "=================================================================\n",
      " embedding (Embedding)       (None, 100, 300)          280200    \n",
      "                                                                 \n",
      " bidirectional (Bidirectiona  (None, 100, 128)         186880    \n",
      " l)                                                              \n",
      "                                                                 \n",
      " time_distributed (TimeDistr  (None, 100, 15)          1935      \n",
      " ibuted)                                                         \n",
      "                                                                 \n",
      "=================================================================\n",
      "Total params: 469,015\n",
      "Trainable params: 469,015\n",
      "Non-trainable params: 0\n",
      "_________________________________________________________________\n",
      "Epoch 1/10\n",
      "34/34 [==============================] - 14s 295ms/step - loss: 1.0591 - acc: 0.8863 - val_loss: 0.2667 - val_acc: 0.9334\n",
      "Epoch 2/10\n",
      "34/34 [==============================] - 10s 290ms/step - loss: 0.2113 - acc: 0.9398 - val_loss: 0.1885 - val_acc: 0.9474\n",
      "Epoch 3/10\n",
      "34/34 [==============================] - 10s 280ms/step - loss: 0.1598 - acc: 0.9599 - val_loss: 0.1455 - val_acc: 0.9660\n",
      "Epoch 4/10\n",
      "34/34 [==============================] - 10s 288ms/step - loss: 0.1188 - acc: 0.9732 - val_loss: 0.1040 - val_acc: 0.9766\n",
      "Epoch 5/10\n",
      "34/34 [==============================] - 10s 293ms/step - loss: 0.0815 - acc: 0.9821 - val_loss: 0.0693 - val_acc: 0.9855\n",
      "Epoch 6/10\n",
      "34/34 [==============================] - 10s 290ms/step - loss: 0.0536 - acc: 0.9889 - val_loss: 0.0458 - val_acc: 0.9909\n",
      "Epoch 7/10\n",
      "34/34 [==============================] - 10s 286ms/step - loss: 0.0363 - acc: 0.9927 - val_loss: 0.0324 - val_acc: 0.9943\n",
      "Epoch 8/10\n",
      "34/34 [==============================] - 9s 270ms/step - loss: 0.0263 - acc: 0.9949 - val_loss: 0.0244 - val_acc: 0.9953\n",
      "Epoch 9/10\n",
      "34/34 [==============================] - 9s 280ms/step - loss: 0.0200 - acc: 0.9958 - val_loss: 0.0193 - val_acc: 0.9961\n",
      "Epoch 10/10\n",
      "34/34 [==============================] - 9s 272ms/step - loss: 0.0158 - acc: 0.9967 - val_loss: 0.0159 - val_acc: 0.9970\n"
     ]
    },
    {
     "data": {
      "image/png": "[encoded data removed]",
      "text/plain": [
       "<Figure size 640x480 with 1 Axes>"
      ]
     },
     "metadata": {},
     "output_type": "display_data"
    },
    {
     "name": "stdout",
     "output_type": "stream",
     "text": [
      "19/19 [==============================] - 1s 38ms/step - loss: 0.0151 - acc: 0.9972\n",
      "Loss: 0.015057757496833801,\n",
      "Accuracy: 0.997150182723999\n"
     ]
    }
   ],
   "source": [
    "model1 = create_run_model(300, 10, 'model1.pt')"
   ]
  },
  {
   "cell_type": "code",
   "execution_count": 20,
   "id": "c4cb365f",
   "metadata": {
    "execution": {
     "iopub.execute_input": "2023-03-09T12:24:17.009065Z",
     "iopub.status.busy": "2023-03-09T12:24:17.008612Z",
     "iopub.status.idle": "2023-03-09T12:24:18.918797Z",
     "shell.execute_reply": "2023-03-09T12:24:18.917064Z"
    },
    "papermill": {
     "duration": 1.948687,
     "end_time": "2023-03-09T12:24:18.922281",
     "exception": false,
     "start_time": "2023-03-09T12:24:16.973594",
     "status": "completed"
    },
    "tags": []
   },
   "outputs": [
    {
     "name": "stdout",
     "output_type": "stream",
     "text": [
      "19/19 [==============================] - 2s 35ms/step\n",
      "              precision    recall  f1-score   support\n",
      "\n",
      "       PROPN       1.00      1.00      1.00     52020\n",
      "         ADP       0.99      0.99      0.99      1567\n",
      "        NOUN       0.97      1.00      0.98      1434\n",
      "        VERB       0.99      0.98      0.98      1166\n",
      "         DET       0.97      0.96      0.97       629\n",
      "        PRON       0.98      0.99      0.99       512\n",
      "         AUX       0.98      0.98      0.98       392\n",
      "         ADJ       0.93      0.99      0.96       256\n",
      "         NUM       0.91      0.97      0.94       220\n",
      "       CCONJ       0.97      0.91      0.94       127\n",
      "         ADV       1.00      0.98      0.99       109\n",
      "        PART       1.00      0.45      0.62        76\n",
      "        INTJ       0.96      0.46      0.63        56\n",
      "         SYM       1.00      1.00      1.00        36\n",
      "\n",
      "    accuracy                           1.00     58600\n",
      "   macro avg       0.98      0.91      0.93     58600\n",
      "weighted avg       1.00      1.00      1.00     58600\n",
      "\n"
     ]
    }
   ],
   "source": [
    "report(model1,test_X,test_Y_padded)\n"
   ]
  },
  {
   "cell_type": "code",
   "execution_count": 21,
   "id": "ab593192",
   "metadata": {
    "execution": {
     "iopub.execute_input": "2023-03-09T12:24:18.992754Z",
     "iopub.status.busy": "2023-03-09T12:24:18.992280Z",
     "iopub.status.idle": "2023-03-09T12:25:04.842400Z",
     "shell.execute_reply": "2023-03-09T12:25:04.841073Z"
    },
    "papermill": {
     "duration": 45.88874,
     "end_time": "2023-03-09T12:25:04.845473",
     "exception": false,
     "start_time": "2023-03-09T12:24:18.956733",
     "status": "completed"
    },
    "tags": []
   },
   "outputs": [
    {
     "name": "stdout",
     "output_type": "stream",
     "text": [
      "Model: \"sequential_1\"\n",
      "_________________________________________________________________\n",
      " Layer (type)                Output Shape              Param #   \n",
      "=================================================================\n",
      " embedding_1 (Embedding)     (None, 100, 300)          280200    \n",
      "                                                                 \n",
      " simple_rnn (SimpleRNN)      (None, 100, 64)           23360     \n",
      "                                                                 \n",
      " time_distributed_1 (TimeDis  (None, 100, 15)          975       \n",
      " tributed)                                                       \n",
      "                                                                 \n",
      "=================================================================\n",
      "Total params: 304,535\n",
      "Trainable params: 304,535\n",
      "Non-trainable params: 0\n",
      "_________________________________________________________________\n",
      "Epoch 1/10\n",
      "34/34 [==============================] - 5s 90ms/step - loss: 0.8898 - acc: 0.8594 - val_loss: 0.3823 - val_acc: 0.8935\n",
      "Epoch 2/10\n",
      "34/34 [==============================] - 3s 79ms/step - loss: 0.2888 - acc: 0.9392 - val_loss: 0.2232 - val_acc: 0.9642\n",
      "Epoch 3/10\n",
      "34/34 [==============================] - 3s 80ms/step - loss: 0.1706 - acc: 0.9727 - val_loss: 0.1349 - val_acc: 0.9761\n",
      "Epoch 4/10\n",
      "34/34 [==============================] - 3s 81ms/step - loss: 0.1032 - acc: 0.9844 - val_loss: 0.0858 - val_acc: 0.9873\n",
      "Epoch 5/10\n",
      "34/34 [==============================] - 3s 86ms/step - loss: 0.0661 - acc: 0.9904 - val_loss: 0.0577 - val_acc: 0.9911\n",
      "Epoch 6/10\n",
      "34/34 [==============================] - 3s 80ms/step - loss: 0.0449 - acc: 0.9933 - val_loss: 0.0413 - val_acc: 0.9937\n",
      "Epoch 7/10\n",
      "34/34 [==============================] - 3s 83ms/step - loss: 0.0325 - acc: 0.9949 - val_loss: 0.0315 - val_acc: 0.9946\n",
      "Epoch 8/10\n",
      "34/34 [==============================] - 3s 80ms/step - loss: 0.0251 - acc: 0.9957 - val_loss: 0.0255 - val_acc: 0.9955\n",
      "Epoch 9/10\n",
      "34/34 [==============================] - 3s 78ms/step - loss: 0.0203 - acc: 0.9963 - val_loss: 0.0216 - val_acc: 0.9958\n",
      "Epoch 10/10\n",
      "34/34 [==============================] - 3s 78ms/step - loss: 0.0171 - acc: 0.9967 - val_loss: 0.0190 - val_acc: 0.9962\n"
     ]
    },
    {
     "data": {
      "image/png": "[encoded data removed]",
      "text/plain": [
       "<Figure size 640x480 with 1 Axes>"
      ]
     },
     "metadata": {},
     "output_type": "display_data"
    },
    {
     "name": "stdout",
     "output_type": "stream",
     "text": [
      "19/19 [==============================] - 0s 11ms/step - loss: 0.0174 - acc: 0.9963\n",
      "Loss: 0.01740138791501522,\n",
      "Accuracy: 0.9963481426239014\n"
     ]
    }
   ],
   "source": [
    "model2 = create_run_model2(300, 10, 'model2.pt')"
   ]
  },
  {
   "cell_type": "code",
   "execution_count": 22,
   "id": "7466bcbb",
   "metadata": {
    "execution": {
     "iopub.execute_input": "2023-03-09T12:25:04.963799Z",
     "iopub.status.busy": "2023-03-09T12:25:04.963344Z",
     "iopub.status.idle": "2023-03-09T12:25:04.991040Z",
     "shell.execute_reply": "2023-03-09T12:25:04.989572Z"
    },
    "papermill": {
     "duration": 0.089717,
     "end_time": "2023-03-09T12:25:04.993898",
     "exception": false,
     "start_time": "2023-03-09T12:25:04.904181",
     "status": "completed"
    },
    "tags": []
   },
   "outputs": [
    {
     "name": "stdout",
     "output_type": "stream",
     "text": [
      "Model: \"sequential_1\"\n",
      "_________________________________________________________________\n",
      " Layer (type)                Output Shape              Param #   \n",
      "=================================================================\n",
      " embedding_1 (Embedding)     (None, 100, 300)          280200    \n",
      "                                                                 \n",
      " simple_rnn (SimpleRNN)      (None, 100, 64)           23360     \n",
      "                                                                 \n",
      " time_distributed_1 (TimeDis  (None, 100, 15)          975       \n",
      " tributed)                                                       \n",
      "                                                                 \n",
      "=================================================================\n",
      "Total params: 304,535\n",
      "Trainable params: 304,535\n",
      "Non-trainable params: 0\n",
      "_________________________________________________________________\n"
     ]
    }
   ],
   "source": [
    "model2.summary()"
   ]
  },
  {
   "cell_type": "code",
   "execution_count": 23,
   "id": "de065929",
   "metadata": {
    "execution": {
     "iopub.execute_input": "2023-03-09T12:25:05.115404Z",
     "iopub.status.busy": "2023-03-09T12:25:05.114287Z",
     "iopub.status.idle": "2023-03-09T12:25:05.774501Z",
     "shell.execute_reply": "2023-03-09T12:25:05.772535Z"
    },
    "papermill": {
     "duration": 0.723866,
     "end_time": "2023-03-09T12:25:05.778093",
     "exception": false,
     "start_time": "2023-03-09T12:25:05.054227",
     "status": "completed"
    },
    "tags": []
   },
   "outputs": [
    {
     "name": "stdout",
     "output_type": "stream",
     "text": [
      "19/19 [==============================] - 0s 10ms/step\n",
      "              precision    recall  f1-score   support\n",
      "\n",
      "       PROPN       1.00      1.00      1.00     52020\n",
      "         ADP       0.98      0.99      0.99      1567\n",
      "        NOUN       0.98      1.00      0.99      1434\n",
      "        VERB       0.99      0.99      0.99      1166\n",
      "         DET       0.98      0.96      0.97       629\n",
      "        PRON       0.97      0.87      0.92       512\n",
      "         AUX       0.85      0.98      0.91       392\n",
      "         ADJ       0.93      0.98      0.95       256\n",
      "         NUM       0.91      0.97      0.94       220\n",
      "       CCONJ       0.99      0.85      0.92       127\n",
      "         ADV       1.00      0.96      0.98       109\n",
      "        PART       1.00      0.57      0.72        76\n",
      "        INTJ       1.00      0.77      0.87        56\n",
      "         SYM       1.00      1.00      1.00        36\n",
      "\n",
      "    accuracy                           1.00     58600\n",
      "   macro avg       0.97      0.92      0.94     58600\n",
      "weighted avg       1.00      1.00      1.00     58600\n",
      "\n"
     ]
    }
   ],
   "source": [
    "report(model2,test_X,test_Y_padded)"
   ]
  },
  {
   "cell_type": "markdown",
   "id": "32ad0065",
   "metadata": {
    "papermill": {
     "duration": 0.062284,
     "end_time": "2023-03-09T12:25:05.906932",
     "exception": false,
     "start_time": "2023-03-09T12:25:05.844648",
     "status": "completed"
    },
    "tags": []
   },
   "source": [
    "#TEST"
   ]
  },
  {
   "cell_type": "code",
   "execution_count": 24,
   "id": "156c874b",
   "metadata": {
    "execution": {
     "iopub.execute_input": "2023-03-09T12:25:06.033806Z",
     "iopub.status.busy": "2023-03-09T12:25:06.032845Z",
     "iopub.status.idle": "2023-03-09T12:25:06.464445Z",
     "shell.execute_reply": "2023-03-09T12:25:06.462687Z"
    },
    "papermill": {
     "duration": 0.49685,
     "end_time": "2023-03-09T12:25:06.467181",
     "exception": true,
     "start_time": "2023-03-09T12:25:05.970331",
     "status": "failed"
    },
    "tags": []
   },
   "outputs": [
    {
     "ename": "NameError",
     "evalue": "name 'pos_tag_dict_rev' is not defined",
     "output_type": "error",
     "traceback": [
      "\u001b[0;31m---------------------------------------------------------------------------\u001b[0m",
      "\u001b[0;31mNameError\u001b[0m                                 Traceback (most recent call last)",
      "\u001b[0;32m/tmp/ipykernel_19/2297502436.py\u001b[0m in \u001b[0;36m<module>\u001b[0;34m\u001b[0m\n\u001b[1;32m      1\u001b[0m \u001b[0msentence\u001b[0m \u001b[0;34m=\u001b[0m \u001b[0;34m'Mary had a little lamb'\u001b[0m\u001b[0;34m\u001b[0m\u001b[0;34m\u001b[0m\u001b[0m\n\u001b[0;32m----> 2\u001b[0;31m \u001b[0mpredict_sentence_POS_Tags\u001b[0m\u001b[0;34m(\u001b[0m\u001b[0msentence\u001b[0m\u001b[0;34m,\u001b[0m\u001b[0mmodel1\u001b[0m\u001b[0;34m,\u001b[0m\u001b[0mword_tokenizer\u001b[0m\u001b[0;34m,\u001b[0m\u001b[0mpos_tag_dict_rev\u001b[0m\u001b[0;34m)\u001b[0m\u001b[0;34m\u001b[0m\u001b[0;34m\u001b[0m\u001b[0m\n\u001b[0m",
      "\u001b[0;31mNameError\u001b[0m: name 'pos_tag_dict_rev' is not defined"
     ]
    }
   ],
   "source": [
    "sentence = 'Mary had a little lamb'\n",
    "predict_sentence_POS_Tags(sentence,model1,word_tokenizer,pos_tag_dict_rev)"
   ]
  },
  {
   "cell_type": "code",
   "execution_count": null,
   "id": "ee9b82c7",
   "metadata": {
    "execution": {
     "iopub.execute_input": "2023-03-09T12:02:52.319955Z",
     "iopub.status.busy": "2023-03-09T12:02:52.319480Z",
     "iopub.status.idle": "2023-03-09T12:02:52.420025Z",
     "shell.execute_reply": "2023-03-09T12:02:52.418057Z",
     "shell.execute_reply.started": "2023-03-09T12:02:52.319916Z"
    },
    "papermill": {
     "duration": null,
     "end_time": null,
     "exception": null,
     "start_time": null,
     "status": "pending"
    },
    "tags": []
   },
   "outputs": [],
   "source": [
    "sentence = 'Mary had a little lamb'\n",
    "predict_sentence_POS_Tags(sentence,model2,word_tokenizer,pos_tag_dict_rev)"
   ]
  },
  {
   "cell_type": "code",
   "execution_count": null,
   "id": "48045dc9",
   "metadata": {
    "execution": {
     "iopub.execute_input": "2023-03-09T12:15:25.311985Z",
     "iopub.status.busy": "2023-03-09T12:15:25.311541Z",
     "iopub.status.idle": "2023-03-09T12:15:26.201862Z",
     "shell.execute_reply": "2023-03-09T12:15:26.200584Z",
     "shell.execute_reply.started": "2023-03-09T12:15:25.311936Z"
    },
    "papermill": {
     "duration": null,
     "end_time": null,
     "exception": null,
     "start_time": null,
     "status": "pending"
    },
    "tags": []
   },
   "outputs": [],
   "source": [
    "from tensorflow import keras\n",
    "model = keras.models.load_model('/kaggle/working/model2.pt')"
   ]
  },
  {
   "cell_type": "code",
   "execution_count": null,
   "id": "7becb886",
   "metadata": {
    "execution": {
     "iopub.execute_input": "2023-03-09T12:15:32.750792Z",
     "iopub.status.busy": "2023-03-09T12:15:32.750318Z",
     "iopub.status.idle": "2023-03-09T12:15:32.776715Z",
     "shell.execute_reply": "2023-03-09T12:15:32.775505Z",
     "shell.execute_reply.started": "2023-03-09T12:15:32.750748Z"
    },
    "papermill": {
     "duration": null,
     "end_time": null,
     "exception": null,
     "start_time": null,
     "status": "pending"
    },
    "tags": []
   },
   "outputs": [],
   "source": [
    "model.summary()"
   ]
  },
  {
   "cell_type": "code",
   "execution_count": null,
   "id": "7dac9220",
   "metadata": {
    "execution": {
     "iopub.execute_input": "2023-03-09T12:16:53.137218Z",
     "iopub.status.busy": "2023-03-09T12:16:53.136566Z",
     "iopub.status.idle": "2023-03-09T12:16:53.411091Z",
     "shell.execute_reply": "2023-03-09T12:16:53.409828Z",
     "shell.execute_reply.started": "2023-03-09T12:16:53.137163Z"
    },
    "papermill": {
     "duration": null,
     "end_time": null,
     "exception": null,
     "start_time": null,
     "status": "pending"
    },
    "tags": []
   },
   "outputs": [],
   "source": [
    "sentence = 'Mary had a little lamb'\n",
    "predict_sentence_POS_Tags(sentence,model,word_tokenizer,id2tag)"
   ]
  },
  {
   "cell_type": "code",
   "execution_count": null,
   "id": "4c41a100",
   "metadata": {
    "papermill": {
     "duration": null,
     "end_time": null,
     "exception": null,
     "start_time": null,
     "status": "pending"
    },
    "tags": []
   },
   "outputs": [],
   "source": []
  }
 ],
 "metadata": {
  "kernelspec": {
   "display_name": "Python 3",
   "language": "python",
   "name": "python3"
  },
  "language_info": {
   "codemirror_mode": {
    "name": "ipython",
    "version": 3
   },
   "file_extension": ".py",
   "mimetype": "text/x-python",
   "name": "python",
   "nbconvert_exporter": "python",
   "pygments_lexer": "ipython3",
   "version": "3.7.12"
  },
  "papermill": {
   "default_parameters": {},
   "duration": 320.887144,
   "end_time": "2023-03-09T12:25:09.566306",
   "environment_variables": {},
   "exception": true,
   "input_path": "__notebook__.ipynb",
   "output_path": "__notebook__.ipynb",
   "parameters": {},
   "start_time": "2023-03-09T12:19:48.679162",
   "version": "2.4.0"
  }
 },
 "nbformat": 4,
 "nbformat_minor": 5
}
